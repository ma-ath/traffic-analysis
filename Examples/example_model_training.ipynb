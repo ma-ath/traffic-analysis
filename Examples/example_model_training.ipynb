{
 "cells": [
  {
   "cell_type": "markdown",
   "id": "2cfd44d0",
   "metadata": {},
   "source": [
    "# Criação e Treinamento de Modelos para Predição da Pressão Sonora\n",
    "Neste notebook jupyter de exemplo, veremos como usar o código de análise de som em tráfego para fazer a geração de um modelo para aprendizado de máquina. Esse código assume que o notebook para \"extração de dados\" dos vídeos já foi executado, iniciaremos com um modelo simples e ao final teremos um modelo treinado.\n",
    "### Geração do Modelo\n",
    "Primeiramente, vamos fazer a geração do modelo. A geração dos principais modelos já testados é bastante simples com esse código, como podemos ver a seguir:"
   ]
  },
  {
   "cell_type": "code",
   "execution_count": 1,
   "id": "1c01bf52",
   "metadata": {},
   "outputs": [],
   "source": [
    "import os, sys\n",
    "import numpy as np\n",
    "\n",
    "# Adiciona a pasta TrafficSoundAnalysis para o 'PATH', para que o python reconheça nosso pacote \n",
    "sys.path.append(os.path.dirname(os.path.abspath('')))\n",
    "\n",
    "# Importa a classe DataHandler da nossa biblioteca de trafego\n",
    "from TrafficSoundAnalysis.DataHandler.DataHandler import *\n",
    "from TrafficSoundAnalysis.ModelHandler.ModelHandler import *"
   ]
  },
  {
   "cell_type": "code",
   "execution_count": 2,
   "id": "f36e3dd6",
   "metadata": {},
   "outputs": [],
   "source": [
    "# Isso aqui é para resolve um problema de 'Out Of Memory' na minha gpu (GTX 1650)\n",
    "# https://stackoverflow.com/questions/59873568/unknownerror-failed-to-get-convolution-algorithm\n",
    "import tensorflow as tf\n",
    "gpus = tf.config.experimental.list_physical_devices('GPU')\n",
    "if gpus:\n",
    "    try:\n",
    "        for gpu in gpus:\n",
    "            tf.config.experimental.set_memory_growth(gpu, True)\n",
    "\n",
    "    except RuntimeError as e:\n",
    "        print(e)"
   ]
  },
  {
   "cell_type": "markdown",
   "id": "ea3bb87e",
   "metadata": {},
   "source": [
    "Vamos criar uma variavel para o nosso dataset já extraído. Tenha certeza de seguir o notebook para extração de dados!"
   ]
  },
  {
   "cell_type": "code",
   "execution_count": 3,
   "id": "671a1a13",
   "metadata": {},
   "outputs": [],
   "source": [
    "# dataset_dir = '/home/.../traffic-analysis/Examples/dataset'\n",
    "dataset_dir = os.path.join(os.path.abspath(''), \"dataset\")\n",
    "\n",
    "#   Cria a pasta 'raw' em 'Examples/dataset/raw'\n",
    "if not os.path.isdir(os.path.join(dataset_dir, \"raw\")):\n",
    "    raise Exception(\"Por favor, complete antes o tutorial para extração do dataset!\")"
   ]
  },
  {
   "cell_type": "markdown",
   "id": "7ab088f4",
   "metadata": {},
   "source": [
    "Vamos criar um objeto do tipo DataHandler para lidar com os dados extraídos"
   ]
  },
  {
   "cell_type": "code",
   "execution_count": 4,
   "id": "75c9f283",
   "metadata": {},
   "outputs": [],
   "source": [
    "#   Cria o objecto dataHandler\n",
    "dataHandler = DataHandler(dataset_directory = dataset_dir)"
   ]
  },
  {
   "cell_type": "markdown",
   "id": "869f24a0",
   "metadata": {},
   "source": [
    "A partir daqui, vamos dar início a geração do nosso modelo. A classe básica do nosso modelo é a TrafficSoundAnalysis.Model. Vamos começar inicializando um objeto dessa classe"
   ]
  },
  {
   "cell_type": "code",
   "execution_count": 5,
   "id": "17a28361",
   "metadata": {},
   "outputs": [],
   "source": [
    "#   Cria um objeto do tipo ModelHandler() para geração do nosso modelo\n",
    "model = ModelHandler()"
   ]
  },
  {
   "cell_type": "markdown",
   "id": "f8314e4f",
   "metadata": {},
   "source": [
    "O objeto do tipo ModelHandler ainda não está inicializado, ou seja, não há de fato nenhum modelo keras \"guardado\" nele. Para inicializa-lo, precisamos chamar algum método do tipo \"Build\". Existem duas formas básicas de inicializar esse objeto:\n",
    "\n",
    "1. Usando um dicionário python pré-definido.\n",
    "2. Passando para ele diretamente um modelo keras.\n",
    "\n",
    "A inicialização usando o dicionário python é útil pela facilidade da geração do modelo. Só é preciso passar alguns parâmetros, e o modelo automaticamente gera o modelo correspondente para o Keras.\n",
    "\n",
    "Já a inicialização passando diretamente um modelo Keras é útil por sua maior abrangência, permitindo o uso de modelos não previamente criados.\n",
    "\n",
    "Vamos dar um exemplo para cada"
   ]
  },
  {
   "cell_type": "markdown",
   "id": "26b2e6ea",
   "metadata": {},
   "source": [
    "1. #### Inicialização de modelo por dicionário python\n",
    "\n",
    "Vamos primeiro ver qual o formato do nosso dicionário, criando um exemplo"
   ]
  },
  {
   "cell_type": "code",
   "execution_count": 6,
   "id": "695a7fee",
   "metadata": {},
   "outputs": [],
   "source": [
    "#   Modelo de dicionario python para definicao de uma rede\n",
    "network = dict()\n",
    "\n",
    "#   Model and training configuration\n",
    "network['model_name'] = 'training_example'\n",
    "network['input_format'] = [64, 64, 3]\n",
    "\n",
    "#   Convolutional layer\n",
    "network['cnn'] = 'vgg16' #or inceptionv3, or resnet50\n",
    "network['cnn_offline'] = False\n",
    "network['cnn_freeze_imagenet_weights'] = True\n",
    "\n",
    "#   Pooling layer\n",
    "network['pooling'] = 'gap'  #or 'none', or 'gmp'\n",
    "\n",
    "#   RNN Layer\n",
    "network['rnn'] = 'lstm' #   or 'lstm'\n",
    "network['rnn_timesteps'] = 10\n",
    "network['rnn_outputsize'] = 64\n",
    "network['rnn_dropout'] = 0.2\n",
    "network['rnn_isstateful'] = False\n",
    "\n",
    "#   Hidden FC layer\n",
    "network['hiddenfc'] = True\n",
    "network['hiddenfc_size'] = 64\n",
    "network['hiddenfc_activation'] = 'tanh'\n",
    "network['hiddenfc_regularizer'] = None\n",
    "network['hiddenfc_dropout'] = 0\n",
    "\n",
    "#   Dataset related things\n",
    "network['dataset_overlapwindows'] = True\n",
    "network['dataset_causalprediction'] = False"
   ]
  },
  {
   "cell_type": "markdown",
   "id": "3d4c613d",
   "metadata": {},
   "source": [
    "Agora só precisamos chamar o método BuildModelFromDictionary, passando por parâmetro nosso dicionário"
   ]
  },
  {
   "cell_type": "code",
   "execution_count": 7,
   "id": "c1148895",
   "metadata": {},
   "outputs": [
    {
     "name": "stdout",
     "output_type": "stream",
     "text": [
      "Model: \"sequential\"\n",
      "_________________________________________________________________\n",
      "Layer (type)                 Output Shape              Param #   \n",
      "=================================================================\n",
      "time_distributed (TimeDistri (None, 10, 2, 2, 512)     14714688  \n",
      "_________________________________________________________________\n",
      "time_distributed_1 (TimeDist (None, 10, 512)           0         \n",
      "_________________________________________________________________\n",
      "lstm (LSTM)                  (None, 64)                147712    \n",
      "_________________________________________________________________\n",
      "dense (Dense)                (None, 64)                4160      \n",
      "_________________________________________________________________\n",
      "dropout (Dropout)            (None, 64)                0         \n",
      "_________________________________________________________________\n",
      "dense_1 (Dense)              (None, 1)                 65        \n",
      "=================================================================\n",
      "Total params: 14,866,625\n",
      "Trainable params: 151,937\n",
      "Non-trainable params: 14,714,688\n",
      "_________________________________________________________________\n"
     ]
    }
   ],
   "source": [
    "model.BuildModelFromDictionary(network)\n",
    "\n",
    "# O modelo keras gerado fica salvo no parametro '.model' do nosso objeto.\n",
    "# Vamos sumarizar o modelo gerado:\n",
    "\n",
    "# Summary\n",
    "model.model.summary()"
   ]
  },
  {
   "cell_type": "code",
   "execution_count": 8,
   "id": "5a7f73eb",
   "metadata": {},
   "outputs": [
    {
     "name": "stdout",
     "output_type": "stream",
     "text": [
      "Model: \"model_2\"\n",
      "_________________________________________________________________\n",
      "Layer (type)                 Output Shape              Param #   \n",
      "=================================================================\n",
      "input_4 (InputLayer)         [(None, 64, 64, 3)]       0         \n",
      "_________________________________________________________________\n",
      "vgg16 (Functional)           (None, 2, 2, 512)         14714688  \n",
      "_________________________________________________________________\n",
      "global_average_pooling2d_1 ( (None, 512)               0         \n",
      "_________________________________________________________________\n",
      "dense_2 (Dense)              (None, 64)                32832     \n",
      "_________________________________________________________________\n",
      "dropout_1 (Dropout)          (None, 64)                0         \n",
      "_________________________________________________________________\n",
      "dense_3 (Dense)              (None, 1)                 65        \n",
      "=================================================================\n",
      "Total params: 14,747,585\n",
      "Trainable params: 32,897\n",
      "Non-trainable params: 14,714,688\n",
      "_________________________________________________________________\n"
     ]
    }
   ],
   "source": [
    "# Vamos gerar um modelo agora sem a camada LSTM desse modelo\n",
    "network['rnn'] = 'none'\n",
    "\n",
    "# Faz a geração do modelo\n",
    "model.BuildModelFromDictionary(network)\n",
    "\n",
    "# Summary\n",
    "model.model.summary()"
   ]
  },
  {
   "cell_type": "code",
   "execution_count": 9,
   "id": "945a900a",
   "metadata": {},
   "outputs": [
    {
     "data": {
      "image/png": "[encoded data removed]",
      "text/plain": [
       "<IPython.core.display.Image object>"
      ]
     },
     "execution_count": 9,
     "metadata": {},
     "output_type": "execute_result"
    }
   ],
   "source": [
    "# Vamos gerar um modelo agora usando a vgg16 'offline', ou seja, usando as features já previamente salvas da vgg16\n",
    "# Vamos também desativar a camada hidden_fc\n",
    "network['cnn_offline'] = True\n",
    "network['hiddenfc'] = False\n",
    "\n",
    "# Faz a geração do modelo\n",
    "model.BuildModelFromDictionary(network)\n",
    "\n",
    "# Também podemos vizualizar o modelo com o método ShowModel()\n",
    "from IPython.display import Image\n",
    "\n",
    "model.ShowModel()\n",
    "Image(filename='model.png')"
   ]
  },
  {
   "cell_type": "markdown",
   "id": "ce528a06",
   "metadata": {},
   "source": [
    "2. #### Inicialização de modelo diretamente por um modelo Keras\n",
    "\n",
    "Digamos que nós queiramos testar um modelo diferente, não implementado. Podemos diretamente escrever esse modelo e inicializar nosso objeto ModelHandler com ele. Por exemplo:"
   ]
  },
  {
   "cell_type": "code",
   "execution_count": 10,
   "id": "ee2a910d",
   "metadata": {},
   "outputs": [
    {
     "name": "stdout",
     "output_type": "stream",
     "text": [
      "WARNING:tensorflow:`input_shape` is undefined or non-square, or `rows` is not in [128, 160, 192, 224]. Weights for input shape (224, 224) will be loaded as the default.\n",
      "Model: \"mobile_net_test\"\n",
      "_________________________________________________________________\n",
      "Layer (type)                 Output Shape              Param #   \n",
      "=================================================================\n",
      "mobilenet_1.00_224 (Function (None, 2, 2, 1024)        3228864   \n",
      "_________________________________________________________________\n",
      "global_average_pooling2d_2 ( (None, 1024)              0         \n",
      "_________________________________________________________________\n",
      "dense_5 (Dense)              (None, 128)               131200    \n",
      "_________________________________________________________________\n",
      "dropout_2 (Dropout)          (None, 128)               0         \n",
      "_________________________________________________________________\n",
      "dense_6 (Dense)              (None, 1)                 129       \n",
      "=================================================================\n",
      "Total params: 3,360,193\n",
      "Trainable params: 131,329\n",
      "Non-trainable params: 3,228,864\n",
      "_________________________________________________________________\n"
     ]
    }
   ],
   "source": [
    "## Geração de um modelo mobilenet para nosso projeto\n",
    "input_format = (64, 64, 3)\n",
    "\n",
    "# Baixa a rede mobilenet do keras.applications e congela seus pesos\n",
    "convolutional_layer = tf.keras.applications.MobileNet(weights='imagenet', include_top=False, input_shape=input_format)\n",
    "for layer in convolutional_layer.layers[:]:\n",
    "    layer.trainable = False\n",
    "\n",
    "# Cria um modelo do tipo sequencial\n",
    "mobile_net = tf.keras.Sequential(name='mobile_net_test')\n",
    "\n",
    "mobile_net.add(tf.keras.layers.Input(input_format))\n",
    "mobile_net.add(convolutional_layer)\n",
    "mobile_net.add(tf.keras.layers.GlobalAveragePooling2D(data_format=None))\n",
    "\n",
    "mobile_net.add(tf.keras.layers.Dense(128, activation='tanh'))\n",
    "mobile_net.add(tf.keras.layers.Dropout(0.2))\n",
    "mobile_net.add(tf.keras.layers.Dense(1, activation='linear'))\n",
    "\n",
    "# Summarize\n",
    "mobile_net.summary()"
   ]
  },
  {
   "cell_type": "code",
   "execution_count": 12,
   "id": "01bdf5ae",
   "metadata": {},
   "outputs": [
    {
     "name": "stdout",
     "output_type": "stream",
     "text": [
      "Model: \"mobile_net_test\"\n",
      "_________________________________________________________________\n",
      "Layer (type)                 Output Shape              Param #   \n",
      "=================================================================\n",
      "mobilenet_1.00_224 (Function (None, 2, 2, 1024)        3228864   \n",
      "_________________________________________________________________\n",
      "global_average_pooling2d_2 ( (None, 1024)              0         \n",
      "_________________________________________________________________\n",
      "dense_5 (Dense)              (None, 128)               131200    \n",
      "_________________________________________________________________\n",
      "dropout_2 (Dropout)          (None, 128)               0         \n",
      "_________________________________________________________________\n",
      "dense_6 (Dense)              (None, 1)                 129       \n",
      "=================================================================\n",
      "Total params: 3,360,193\n",
      "Trainable params: 131,329\n",
      "Non-trainable params: 3,228,864\n",
      "_________________________________________________________________\n"
     ]
    }
   ],
   "source": [
    "# Agora vamos simplesmente passar esse modelo para a classe ModelHandler:\n",
    "# Esse método simplesmente checa se o modelo gerado é um modelo keras válido,\n",
    "# e o copia para seu parametro interno .model\n",
    "\n",
    "model.BuildModelFromKeras(mobile_net)\n",
    "\n",
    "# Show model\n",
    "model.model.summary()"
   ]
  },
  {
   "cell_type": "markdown",
   "id": "894054aa",
   "metadata": {},
   "source": [
    "### Treinamento de redes neurais\n",
    "\n",
    "Ainda em andamento..."
   ]
  }
 ],
 "metadata": {
  "kernelspec": {
   "display_name": "Python 3",
   "language": "python",
   "name": "python3"
  },
  "language_info": {
   "codemirror_mode": {
    "name": "ipython",
    "version": 3
   },
   "file_extension": ".py",
   "mimetype": "text/x-python",
   "name": "python",
   "nbconvert_exporter": "python",
   "pygments_lexer": "ipython3",
   "version": "3.8.2"
  }
 },
 "nbformat": 4,
 "nbformat_minor": 5
}
